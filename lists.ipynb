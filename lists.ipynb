{
 "cells": [
  {
   "cell_type": "markdown",
   "metadata": {},
   "source": [
    "# Listen\n",
    "\n",
    "Dieses Tutorial beschäftigt sich mit Listen. Es soll erstmal einen kleinen Einblick geben. Dieses Themen wird zu einem späteren Zeitpunkt nocheinmal genauer aufgegriffen."
   ]
  },
  {
   "cell_type": "markdown",
   "metadata": {},
   "source": [
    "## Listen\n",
    "\n",
    "Eine Liste gehört zu den komplexen Datentypen. Sie kann als eine Verkettung von Datentypen angesehen werden. Im Prinzip ist sie ein Container, in welchen Daten eingefügt, ausgelesen und daraus gelöscht werden können. In Python sieht eine Liste wie folgt aus:\n"
   ]
  },
  {
   "cell_type": "code",
   "execution_count": 1,
   "metadata": {},
   "outputs": [
    {
     "data": {
      "text/plain": [
       "[1, 2, 3, 4, 5, 6]"
      ]
     },
     "execution_count": 1,
     "metadata": {},
     "output_type": "execute_result"
    }
   ],
   "source": [
    "[1,2,3,4,5,6]"
   ]
  },
  {
   "cell_type": "markdown",
   "metadata": {},
   "source": [
    "Die Liste oben enthält die Ganzzahlen von 1 bis 6, diese sind also vom Typ *int*. Elemente können auch mehrfach in der Liste auftreten.\n",
    "\n",
    "Die nächste Liste enthält Elemente vom Typ String:"
   ]
  },
  {
   "cell_type": "code",
   "execution_count": 2,
   "metadata": {},
   "outputs": [
    {
     "data": {
      "text/plain": [
       "['eins', 'zwei', 'drei', 'vier', 'fünf', 'sechs']"
      ]
     },
     "execution_count": 2,
     "metadata": {},
     "output_type": "execute_result"
    }
   ],
   "source": [
    "['eins','zwei','drei','vier','fünf','sechs']"
   ]
  },
  {
   "cell_type": "markdown",
   "metadata": {},
   "source": [
    "In Python kann eine Liste auch Elemente verschiedener Datentypen enthalten. Dies sollte aber nach Möglichkeit vermieden werden, da es nur wenige Sinnvolle Anwendungen dafür gibt.\n",
    "\n",
    "### Liste anlegen\n",
    "\n",
    "Im folgenden wird eine Liste mit den Elementen 1 bis 4 erstellt und ausgegeben.\n",
    "\n",
    "**Erstellen Sie eine zusätzliche Liste, die Elemente eines anderen Datentyps enthält und geben Sie diese aus**"
   ]
  },
  {
   "cell_type": "code",
   "execution_count": 3,
   "metadata": {},
   "outputs": [
    {
     "name": "stdout",
     "output_type": "stream",
     "text": [
      "[1, 2, 3, 4]\n"
     ]
    }
   ],
   "source": [
    "liste = [1,2,3,4]\n",
    "\n",
    "print(liste)\n",
    "\n",
    "# hier Ihre Liste erstellen"
   ]
  },
  {
   "cell_type": "markdown",
   "metadata": {},
   "source": [
    "### Anhängen eines Elements an eine Liste\n",
    "\n",
    "Um ein Element an das Ende einer Liste anzuhänge, wird folgender Befehl genutzt:\n",
    "\n",
    "*liste.append(Element)*\n",
    "\n",
    "Im folgenden wird an die Liste von oben die Zahl 2 erneut angehängt.\n",
    "\n",
    "**Hängen Sie an Ihre Liste von oben ebenfalls ein weiteres Element an und geben Sie diese erneut aus**"
   ]
  },
  {
   "cell_type": "code",
   "execution_count": 16,
   "metadata": {},
   "outputs": [
    {
     "name": "stdout",
     "output_type": "stream",
     "text": [
      "[1, 2, 3, 4, 2]\n"
     ]
    }
   ],
   "source": [
    "liste.append(2)\n",
    "\n",
    "print(liste)\n",
    "\n",
    "# hier ihre Liste erweitern"
   ]
  },
  {
   "cell_type": "markdown",
   "metadata": {},
   "source": [
    "### Elementzugriff\n",
    "\n",
    "Um auf Elemente in einer Liste zuzugreifen, nutzt man den Variablennamen mit der Position des Elements auf das zugegriffen werden soll in eckigen Klammern. \n",
    "\n",
    "**Achtung: Das erste Element hat Position *0*. Daher erfolgt auch der Zugriff auf das dritte Element der Liste mit:**\n",
    "\n",
    "liste[2]\n",
    "\n",
    "Im folgenden wird auf das Element an Position 1 (das zweite Element in der Liste) zugegriffen und in einer Variable gespeichert.\n",
    "\n",
    "**Greifen Sie ebenfalls auf ein Element in Ihrer Liste zu, speichern Sie es in einer Variablen und geben Sie es danach aus.**"
   ]
  },
  {
   "cell_type": "code",
   "execution_count": 5,
   "metadata": {},
   "outputs": [
    {
     "name": "stdout",
     "output_type": "stream",
     "text": [
      "2\n"
     ]
    }
   ],
   "source": [
    "element = liste[1]\n",
    "\n",
    "print(element)\n",
    "\n",
    "# hier auf eine Element zugreifen und ausgeben."
   ]
  },
  {
   "cell_type": "markdown",
   "metadata": {},
   "source": [
    "### Länge der Liste\n",
    "\n",
    "Die Länge einer Liste gibt an, wie viele Elemente diese enthält. Die Länge der Liste kann folgendermaßen abgefragt werden:\n"
   ]
  },
  {
   "cell_type": "code",
   "execution_count": 6,
   "metadata": {},
   "outputs": [
    {
     "name": "stdout",
     "output_type": "stream",
     "text": [
      "4\n"
     ]
    }
   ],
   "source": [
    "laenge = len(liste)\n",
    "\n",
    "print(laenge)"
   ]
  },
  {
   "cell_type": "markdown",
   "metadata": {},
   "source": [
    "Die Liste enthält also 4 Elemente. Auf diese kann man mit den Indizes 0 bis 3 zugreifen.\n",
    "\n",
    "**Fragen Sie nun auch die Länge Ihrer Liste ab und geben Sie diese aus**"
   ]
  },
  {
   "cell_type": "code",
   "execution_count": 7,
   "metadata": {},
   "outputs": [],
   "source": [
    "# hier die Länge bestimmen"
   ]
  }
 ],
 "metadata": {
  "interpreter": {
   "hash": "e2a7c3d20469dda411fd3211f02092a920078d1ca97c72d3dc7928b841d3a44a"
  },
  "kernelspec": {
   "display_name": "Python 3.9.5 64-bit",
   "language": "python",
   "name": "python3"
  },
  "language_info": {
   "codemirror_mode": {
    "name": "ipython",
    "version": 3
   },
   "file_extension": ".py",
   "mimetype": "text/x-python",
   "name": "python",
   "nbconvert_exporter": "python",
   "pygments_lexer": "ipython3",
   "version": "3.9.5"
  },
  "orig_nbformat": 4
 },
 "nbformat": 4,
 "nbformat_minor": 2
}
