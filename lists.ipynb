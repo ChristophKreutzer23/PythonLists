{
 "cells": [
  {
   "cell_type": "markdown",
   "metadata": {},
   "source": [
    "# Listen und Funktionen\n",
    "\n",
    "Dieses Tutorial beschäftigt sich mit Listen und Funktionen. Es soll erstmal einen kleinen Einblick in beides geben. Diese Themen werden zu einem späteren Zeitpunkt nocheinmal genauer aufgegriffen."
   ]
  },
  {
   "cell_type": "markdown",
   "metadata": {},
   "source": [
    "## Listen\n",
    "\n",
    "Listen gehören zu den komplexen Datentypen.\n",
    "\n",
    "bla bla bla"
   ]
  },
  {
   "cell_type": "code",
   "execution_count": 2,
   "metadata": {},
   "outputs": [
    {
     "name": "stdout",
     "output_type": "stream",
     "text": [
      "[1, 2, 3, 4]\n"
     ]
    }
   ],
   "source": [
    "liste = [1,2,3,4]\n",
    "\n",
    "print(liste)"
   ]
  },
  {
   "cell_type": "markdown",
   "metadata": {},
   "source": [
    "Zum Einfügen eines Elements wird folgende Syntax verwendet:\n",
    "\n",
    "liste.append(Element)"
   ]
  },
  {
   "cell_type": "code",
   "execution_count": 3,
   "metadata": {},
   "outputs": [
    {
     "name": "stdout",
     "output_type": "stream",
     "text": [
      "[1, 2, 3, 4, 2]\n"
     ]
    }
   ],
   "source": [
    "liste.append(2)\n",
    "\n",
    "print(liste)"
   ]
  },
  {
   "cell_type": "markdown",
   "metadata": {},
   "source": [
    "Elementzugriff\n",
    "\n",
    "liste[2]"
   ]
  },
  {
   "cell_type": "code",
   "execution_count": 4,
   "metadata": {},
   "outputs": [
    {
     "name": "stdout",
     "output_type": "stream",
     "text": [
      "2\n"
     ]
    }
   ],
   "source": [
    "element = liste[1]\n",
    "\n",
    "print(element)"
   ]
  },
  {
   "cell_type": "markdown",
   "metadata": {},
   "source": [
    "## Funktionen\n",
    "\n",
    "Funktionen sind ein guter Weg sauberen Code zu schreiben. Bla bla bla"
   ]
  },
  {
   "cell_type": "code",
   "execution_count": 9,
   "metadata": {},
   "outputs": [
    {
     "name": "stdout",
     "output_type": "stream",
     "text": [
      "################################\n",
      "#                              #\n",
      "# Ihre Zahl war 5              #\n",
      "#                              #\n",
      "################################\n",
      "################################\n",
      "#                              #\n",
      "# Ihre Zahl war 3              #\n",
      "#                              #\n",
      "################################\n",
      "################################\n",
      "#                              #\n",
      "# Ihre Zahl war 4              #\n",
      "#                              #\n",
      "################################\n",
      "################################\n",
      "#                              #\n",
      "# Ihre Zahl war 2              #\n",
      "#                              #\n",
      "################################\n",
      "################################\n",
      "#                              #\n",
      "# Ihre Zahl war 5              #\n",
      "#                              #\n",
      "################################\n"
     ]
    }
   ],
   "source": [
    "test = input('Geben Sie eine Zahl ein: ')\n",
    "print('################################')\n",
    "print('#                              #')\n",
    "print(f'# Ihre Zahl war {test}              #')\n",
    "print('#                              #')\n",
    "print('################################')\n",
    "\n",
    "test = input('Geben Sie eine Zahl ein: ')\n",
    "print('################################')\n",
    "print('#                              #')\n",
    "print(f'# Ihre Zahl war {test}              #')\n",
    "print('#                              #')\n",
    "print('################################')\n",
    "\n",
    "test = input('Geben Sie eine Zahl ein: ')\n",
    "print('################################')\n",
    "print('#                              #')\n",
    "print(f'# Ihre Zahl war {test}              #')\n",
    "print('#                              #')\n",
    "print('################################')\n",
    "\n",
    "test = input('Geben Sie eine Zahl ein: ')\n",
    "print('################################')\n",
    "print('#                              #')\n",
    "print(f'# Ihre Zahl war {test}              #')\n",
    "print('#                              #')\n",
    "print('################################')\n",
    "\n",
    "test = input('Geben Sie eine Zahl ein: ')\n",
    "print('################################')\n",
    "print('#                              #')\n",
    "print(f'# Ihre Zahl war {test}              #')\n",
    "print('#                              #')\n",
    "print('################################')"
   ]
  },
  {
   "cell_type": "code",
   "execution_count": 11,
   "metadata": {},
   "outputs": [
    {
     "name": "stdout",
     "output_type": "stream",
     "text": [
      "################################\n",
      "#                              #\n",
      "# Ihre Zahl war 5              #\n",
      "#                              #\n",
      "################################\n",
      "################################\n",
      "#                              #\n",
      "# Ihre Zahl war 3              #\n",
      "#                              #\n",
      "################################\n",
      "################################\n",
      "#                              #\n",
      "# Ihre Zahl war 5              #\n",
      "#                              #\n",
      "################################\n",
      "################################\n",
      "#                              #\n",
      "# Ihre Zahl war 1              #\n",
      "#                              #\n",
      "################################\n"
     ]
    }
   ],
   "source": [
    "def machWas():\n",
    "  test = input('Geben Sie eine Zahl ein: ')\n",
    "  print('################################')\n",
    "  print('#                              #')\n",
    "  print(f'# Ihre Zahl war {test}              #')\n",
    "  print('#                              #')\n",
    "  print('################################')\n",
    "\n",
    "machWas()\n",
    "machWas()\n",
    "machWas()\n",
    "machWas()"
   ]
  },
  {
   "cell_type": "code",
   "execution_count": null,
   "metadata": {},
   "outputs": [],
   "source": []
  }
 ],
 "metadata": {
  "interpreter": {
   "hash": "e2a7c3d20469dda411fd3211f02092a920078d1ca97c72d3dc7928b841d3a44a"
  },
  "kernelspec": {
   "display_name": "Python 3.9.5 64-bit",
   "language": "python",
   "name": "python3"
  },
  "language_info": {
   "codemirror_mode": {
    "name": "ipython",
    "version": 3
   },
   "file_extension": ".py",
   "mimetype": "text/x-python",
   "name": "python",
   "nbconvert_exporter": "python",
   "pygments_lexer": "ipython3",
   "version": "3.9.5"
  },
  "orig_nbformat": 4
 },
 "nbformat": 4,
 "nbformat_minor": 2
}
